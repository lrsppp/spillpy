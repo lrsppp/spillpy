{
 "cells": [
  {
   "cell_type": "code",
   "execution_count": 19,
   "id": "77cbe9f3-45c1-45a6-a59a-97510b64b0fa",
   "metadata": {},
   "outputs": [],
   "source": [
    "import pandas as pd\n",
    "import numpy as np\n",
    "import matplotlib.pyplot as plt\n",
    "\n",
    "from statsmodels.tsa.api import VAR\n",
    "from spillpy import Spillover"
   ]
  },
  {
   "cell_type": "code",
   "execution_count": 49,
   "id": "1c6d9686-eb7d-478b-8123-4dfbdccfe486",
   "metadata": {},
   "outputs": [],
   "source": [
    "# random data\n",
    "np.random.seed(2022)\n",
    "data = np.random.normal(size = (500, 4))"
   ]
  },
  {
   "cell_type": "code",
   "execution_count": 50,
   "id": "7d481964-48e2-4ff2-b776-853e4eb50bc0",
   "metadata": {},
   "outputs": [],
   "source": [
    "# rolling window spillover\n",
    "window = 100\n",
    "spillover_index = []\n",
    "for i in range(len(data) - window):\n",
    "    dd = data[i:i+window]\n",
    "    model = VAR(dd)\n",
    "    res = model.fit()\n",
    "    \n",
    "    so = Spillover(res)\n",
    "    so.fit()    \n",
    "    \n",
    "    spillover_index.append(so.spillover_index())"
   ]
  },
  {
   "cell_type": "code",
   "execution_count": 53,
   "id": "50480bd0-ceab-41a4-a866-d56d04f25685",
   "metadata": {},
   "outputs": [
    {
     "data": {
      "text/plain": [
       "Text(0, 0.5, 'total spillover index')"
      ]
     },
     "execution_count": 53,
     "metadata": {},
     "output_type": "execute_result"
    },
    {
     "data": {
      "image/png": "[encoded data removed]",
      "text/plain": [
       "<Figure size 432x288 with 1 Axes>"
      ]
     },
     "metadata": {
      "needs_background": "light"
     },
     "output_type": "display_data"
    }
   ],
   "source": [
    "plt.plot(spillover_index)\n",
    "plt.ylabel('total spillover index')"
   ]
  },
  {
   "cell_type": "code",
   "execution_count": 54,
   "id": "e62e4251-add2-4bbe-b217-89a9d6f20d07",
   "metadata": {},
   "outputs": [
    {
     "data": {
      "text/html": [
       "<div>\n",
       "<style scoped>\n",
       "    .dataframe tbody tr th:only-of-type {\n",
       "        vertical-align: middle;\n",
       "    }\n",
       "\n",
       "    .dataframe tbody tr th {\n",
       "        vertical-align: top;\n",
       "    }\n",
       "\n",
       "    .dataframe thead th {\n",
       "        text-align: right;\n",
       "    }\n",
       "</style>\n",
       "<table border=\"1\" class=\"dataframe\">\n",
       "  <thead>\n",
       "    <tr style=\"text-align: right;\">\n",
       "      <th></th>\n",
       "      <th>y1</th>\n",
       "      <th>y2</th>\n",
       "      <th>y3</th>\n",
       "      <th>y4</th>\n",
       "      <th>dir_to</th>\n",
       "    </tr>\n",
       "  </thead>\n",
       "  <tbody>\n",
       "    <tr>\n",
       "      <th>y1</th>\n",
       "      <td>98.694906</td>\n",
       "      <td>0.368261</td>\n",
       "      <td>0.246100</td>\n",
       "      <td>0.690734</td>\n",
       "      <td>1.305094</td>\n",
       "    </tr>\n",
       "    <tr>\n",
       "      <th>y2</th>\n",
       "      <td>0.369108</td>\n",
       "      <td>98.585362</td>\n",
       "      <td>0.669034</td>\n",
       "      <td>0.376496</td>\n",
       "      <td>1.414638</td>\n",
       "    </tr>\n",
       "    <tr>\n",
       "      <th>y3</th>\n",
       "      <td>0.153722</td>\n",
       "      <td>0.637051</td>\n",
       "      <td>99.198414</td>\n",
       "      <td>0.010812</td>\n",
       "      <td>0.801586</td>\n",
       "    </tr>\n",
       "    <tr>\n",
       "      <th>y4</th>\n",
       "      <td>0.033778</td>\n",
       "      <td>0.358349</td>\n",
       "      <td>0.051067</td>\n",
       "      <td>99.556806</td>\n",
       "      <td>0.443194</td>\n",
       "    </tr>\n",
       "    <tr>\n",
       "      <th>dir_from</th>\n",
       "      <td>0.556608</td>\n",
       "      <td>1.363661</td>\n",
       "      <td>0.966201</td>\n",
       "      <td>1.078041</td>\n",
       "      <td>0.991128</td>\n",
       "    </tr>\n",
       "  </tbody>\n",
       "</table>\n",
       "</div>"
      ],
      "text/plain": [
       "                 y1         y2         y3         y4    dir_to\n",
       "y1        98.694906   0.368261   0.246100   0.690734  1.305094\n",
       "y2         0.369108  98.585362   0.669034   0.376496  1.414638\n",
       "y3         0.153722   0.637051  99.198414   0.010812  0.801586\n",
       "y4         0.033778   0.358349   0.051067  99.556806  0.443194\n",
       "dir_from   0.556608   1.363661   0.966201   1.078041  0.991128"
      ]
     },
     "execution_count": 54,
     "metadata": {},
     "output_type": "execute_result"
    }
   ],
   "source": [
    "# full sample\n",
    "model = VAR(data)\n",
    "res = model.fit()\n",
    "so = Spillover(res)\n",
    "so.fit()\n",
    "\n",
    "so.spillover_table(to_pandas = True)"
   ]
  }
 ],
 "metadata": {
  "kernelspec": {
   "display_name": "Python 3 (ipykernel)",
   "language": "python",
   "name": "python3"
  },
  "language_info": {
   "codemirror_mode": {
    "name": "ipython",
    "version": 3
   },
   "file_extension": ".py",
   "mimetype": "text/x-python",
   "name": "python",
   "nbconvert_exporter": "python",
   "pygments_lexer": "ipython3",
   "version": "3.9.7"
  }
 },
 "nbformat": 4,
 "nbformat_minor": 5
}
